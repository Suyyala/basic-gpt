{
  "nbformat": 4,
  "nbformat_minor": 0,
  "metadata": {
    "colab": {
      "provenance": []
    },
    "kernelspec": {
      "name": "python3",
      "display_name": "Python 3"
    },
    "language_info": {
      "name": "python"
    }
  },
  "cells": [
    {
      "cell_type": "code",
      "execution_count": 2,
      "metadata": {
        "colab": {
          "base_uri": "https://localhost:8080/"
        },
        "id": "IZ7yvM8GUmUa",
        "outputId": "51f08b0c-3e1e-42ba-f02f-cd456ca53dca"
      },
      "outputs": [
        {
          "output_type": "stream",
          "name": "stdout",
          "text": [
            "--2023-07-04 16:33:41--  https://raw.githubusercontent.com/Suyyala/learn-gpt/main/data/input.txt\n",
            "Resolving raw.githubusercontent.com (raw.githubusercontent.com)... 185.199.108.133, 185.199.109.133, 185.199.110.133, ...\n",
            "Connecting to raw.githubusercontent.com (raw.githubusercontent.com)|185.199.108.133|:443... connected.\n",
            "HTTP request sent, awaiting response... 200 OK\n",
            "Length: 1115394 (1.1M) [text/plain]\n",
            "Saving to: ‘input.txt’\n",
            "\n",
            "input.txt           100%[===================>]   1.06M  --.-KB/s    in 0.05s   \n",
            "\n",
            "2023-07-04 16:33:41 (19.4 MB/s) - ‘input.txt’ saved [1115394/1115394]\n",
            "\n"
          ]
        }
      ],
      "source": [
        "!wget https://raw.githubusercontent.com/Suyyala/learn-gpt/main/data/input.txt"
      ]
    },
    {
      "cell_type": "code",
      "source": [
        "with open('input.txt', 'r', encoding='utf-8') as f:\n",
        "  text = f.read()"
      ],
      "metadata": {
        "id": "Av5Wd47cWiIj"
      },
      "execution_count": 3,
      "outputs": []
    },
    {
      "cell_type": "code",
      "source": [
        "print(text[:1000])"
      ],
      "metadata": {
        "colab": {
          "base_uri": "https://localhost:8080/"
        },
        "id": "vrVCMhFhW0Pc",
        "outputId": "fa36e57c-7ecc-4eb4-c1e3-b4517ba14df2"
      },
      "execution_count": 4,
      "outputs": [
        {
          "output_type": "stream",
          "name": "stdout",
          "text": [
            "First Citizen:\n",
            "Before we proceed any further, hear me speak.\n",
            "\n",
            "All:\n",
            "Speak, speak.\n",
            "\n",
            "First Citizen:\n",
            "You are all resolved rather to die than to famish?\n",
            "\n",
            "All:\n",
            "Resolved. resolved.\n",
            "\n",
            "First Citizen:\n",
            "First, you know Caius Marcius is chief enemy to the people.\n",
            "\n",
            "All:\n",
            "We know't, we know't.\n",
            "\n",
            "First Citizen:\n",
            "Let us kill him, and we'll have corn at our own price.\n",
            "Is't a verdict?\n",
            "\n",
            "All:\n",
            "No more talking on't; let it be done: away, away!\n",
            "\n",
            "Second Citizen:\n",
            "One word, good citizens.\n",
            "\n",
            "First Citizen:\n",
            "We are accounted poor citizens, the patricians good.\n",
            "What authority surfeits on would relieve us: if they\n",
            "would yield us but the superfluity, while it were\n",
            "wholesome, we might guess they relieved us humanely;\n",
            "but they think we are too dear: the leanness that\n",
            "afflicts us, the object of our misery, is as an\n",
            "inventory to particularise their abundance; our\n",
            "sufferance is a gain to them Let us revenge this with\n",
            "our pikes, ere we become rakes: for the gods know I\n",
            "speak this in hunger for bread, not in thirst for revenge.\n",
            "\n",
            "\n"
          ]
        }
      ]
    },
    {
      "cell_type": "code",
      "source": [
        "chars = sorted(list(set(text)))\n",
        "vocab_size = len(chars)"
      ],
      "metadata": {
        "id": "ROSbs0_zW4zW"
      },
      "execution_count": 5,
      "outputs": []
    },
    {
      "cell_type": "code",
      "source": [
        "print(chars)\n",
        "print(vocab_size)"
      ],
      "metadata": {
        "colab": {
          "base_uri": "https://localhost:8080/"
        },
        "id": "40rP52odXEZw",
        "outputId": "4d0e097f-bfed-4002-e398-9013b0e8698d"
      },
      "execution_count": 6,
      "outputs": [
        {
          "output_type": "stream",
          "name": "stdout",
          "text": [
            "['\\n', ' ', '!', '$', '&', \"'\", ',', '-', '.', '3', ':', ';', '?', 'A', 'B', 'C', 'D', 'E', 'F', 'G', 'H', 'I', 'J', 'K', 'L', 'M', 'N', 'O', 'P', 'Q', 'R', 'S', 'T', 'U', 'V', 'W', 'X', 'Y', 'Z', 'a', 'b', 'c', 'd', 'e', 'f', 'g', 'h', 'i', 'j', 'k', 'l', 'm', 'n', 'o', 'p', 'q', 'r', 's', 't', 'u', 'v', 'w', 'x', 'y', 'z']\n",
            "65\n"
          ]
        }
      ]
    },
    {
      "cell_type": "code",
      "source": [
        "# tokenization\n",
        "stoi = {ch: i for i, ch in enumerate(chars)}\n",
        "itos = {i: ch for i, ch in enumerate(chars)}\n",
        "print(stoi)\n",
        "print(itos)\n"
      ],
      "metadata": {
        "colab": {
          "base_uri": "https://localhost:8080/"
        },
        "id": "lDe6Lq8aXUxV",
        "outputId": "eb9197c4-87e9-431a-93aa-a90af6a36f65"
      },
      "execution_count": 7,
      "outputs": [
        {
          "output_type": "stream",
          "name": "stdout",
          "text": [
            "{'\\n': 0, ' ': 1, '!': 2, '$': 3, '&': 4, \"'\": 5, ',': 6, '-': 7, '.': 8, '3': 9, ':': 10, ';': 11, '?': 12, 'A': 13, 'B': 14, 'C': 15, 'D': 16, 'E': 17, 'F': 18, 'G': 19, 'H': 20, 'I': 21, 'J': 22, 'K': 23, 'L': 24, 'M': 25, 'N': 26, 'O': 27, 'P': 28, 'Q': 29, 'R': 30, 'S': 31, 'T': 32, 'U': 33, 'V': 34, 'W': 35, 'X': 36, 'Y': 37, 'Z': 38, 'a': 39, 'b': 40, 'c': 41, 'd': 42, 'e': 43, 'f': 44, 'g': 45, 'h': 46, 'i': 47, 'j': 48, 'k': 49, 'l': 50, 'm': 51, 'n': 52, 'o': 53, 'p': 54, 'q': 55, 'r': 56, 's': 57, 't': 58, 'u': 59, 'v': 60, 'w': 61, 'x': 62, 'y': 63, 'z': 64}\n",
            "{0: '\\n', 1: ' ', 2: '!', 3: '$', 4: '&', 5: \"'\", 6: ',', 7: '-', 8: '.', 9: '3', 10: ':', 11: ';', 12: '?', 13: 'A', 14: 'B', 15: 'C', 16: 'D', 17: 'E', 18: 'F', 19: 'G', 20: 'H', 21: 'I', 22: 'J', 23: 'K', 24: 'L', 25: 'M', 26: 'N', 27: 'O', 28: 'P', 29: 'Q', 30: 'R', 31: 'S', 32: 'T', 33: 'U', 34: 'V', 35: 'W', 36: 'X', 37: 'Y', 38: 'Z', 39: 'a', 40: 'b', 41: 'c', 42: 'd', 43: 'e', 44: 'f', 45: 'g', 46: 'h', 47: 'i', 48: 'j', 49: 'k', 50: 'l', 51: 'm', 52: 'n', 53: 'o', 54: 'p', 55: 'q', 56: 'r', 57: 's', 58: 't', 59: 'u', 60: 'v', 61: 'w', 62: 'x', 63: 'y', 64: 'z'}\n"
          ]
        }
      ]
    },
    {
      "cell_type": "code",
      "source": [
        "encode = lambda x: [stoi[ch] for ch in x]\n",
        "decode = lambda x: \"\".join([itos[i] for i in x])\n",
        "print(encode('hello world'))\n",
        "print(decode(encode('hello world')))"
      ],
      "metadata": {
        "colab": {
          "base_uri": "https://localhost:8080/"
        },
        "id": "Nf6vUg3_ao7z",
        "outputId": "7ccd0a50-47c5-4594-baf7-ef6496c3d5a4"
      },
      "execution_count": 8,
      "outputs": [
        {
          "output_type": "stream",
          "name": "stdout",
          "text": [
            "[46, 43, 50, 50, 53, 1, 61, 53, 56, 50, 42]\n",
            "hello world\n"
          ]
        }
      ]
    },
    {
      "cell_type": "code",
      "source": [
        "!pip install tiktoken"
      ],
      "metadata": {
        "colab": {
          "base_uri": "https://localhost:8080/"
        },
        "id": "WMcrPpFocWFf",
        "outputId": "1ed5b9dd-282c-4f64-960b-86541a60f895"
      },
      "execution_count": 9,
      "outputs": [
        {
          "output_type": "stream",
          "name": "stdout",
          "text": [
            "Collecting tiktoken\n",
            "  Downloading tiktoken-0.4.0-cp310-cp310-manylinux_2_17_x86_64.manylinux2014_x86_64.whl (1.7 MB)\n",
            "\u001b[?25l     \u001b[90m━━━━━━━━━━━━━━━━━━━━━━━━━━━━━━━━━━━━━━━━\u001b[0m \u001b[32m0.0/1.7 MB\u001b[0m \u001b[31m?\u001b[0m eta \u001b[36m-:--:--\u001b[0m\r\u001b[2K     \u001b[91m━━━━━\u001b[0m\u001b[91m╸\u001b[0m\u001b[90m━━━━━━━━━━━━━━━━━━━━━━━━━━━━━━━━━━\u001b[0m \u001b[32m0.3/1.7 MB\u001b[0m \u001b[31m7.5 MB/s\u001b[0m eta \u001b[36m0:00:01\u001b[0m\r\u001b[2K     \u001b[91m━━━━━━━━━━━━━━━━━━━━━━━━━━━━━━━━━━━━━━━\u001b[0m\u001b[91m╸\u001b[0m \u001b[32m1.7/1.7 MB\u001b[0m \u001b[31m26.0 MB/s\u001b[0m eta \u001b[36m0:00:01\u001b[0m\r\u001b[2K     \u001b[90m━━━━━━━━━━━━━━━━━━━━━━━━━━━━━━━━━━━━━━━━\u001b[0m \u001b[32m1.7/1.7 MB\u001b[0m \u001b[31m20.5 MB/s\u001b[0m eta \u001b[36m0:00:00\u001b[0m\n",
            "\u001b[?25hRequirement already satisfied: regex>=2022.1.18 in /usr/local/lib/python3.10/dist-packages (from tiktoken) (2022.10.31)\n",
            "Requirement already satisfied: requests>=2.26.0 in /usr/local/lib/python3.10/dist-packages (from tiktoken) (2.27.1)\n",
            "Requirement already satisfied: urllib3<1.27,>=1.21.1 in /usr/local/lib/python3.10/dist-packages (from requests>=2.26.0->tiktoken) (1.26.16)\n",
            "Requirement already satisfied: certifi>=2017.4.17 in /usr/local/lib/python3.10/dist-packages (from requests>=2.26.0->tiktoken) (2023.5.7)\n",
            "Requirement already satisfied: charset-normalizer~=2.0.0 in /usr/local/lib/python3.10/dist-packages (from requests>=2.26.0->tiktoken) (2.0.12)\n",
            "Requirement already satisfied: idna<4,>=2.5 in /usr/local/lib/python3.10/dist-packages (from requests>=2.26.0->tiktoken) (3.4)\n",
            "Installing collected packages: tiktoken\n",
            "Successfully installed tiktoken-0.4.0\n"
          ]
        }
      ]
    },
    {
      "cell_type": "code",
      "source": [
        "import tiktoken"
      ],
      "metadata": {
        "id": "W5RgHdx0cMG_"
      },
      "execution_count": 10,
      "outputs": []
    },
    {
      "cell_type": "code",
      "source": [
        "tokenizer = tiktoken.get_encoding('gpt2')\n",
        "print(f'vocab_size {tokenizer.n_vocab}')\n",
        "print(tokenizer.encode(\"hello world\"))\n",
        "print(tokenizer.decode(tokenizer.encode('hello world')))\n"
      ],
      "metadata": {
        "colab": {
          "base_uri": "https://localhost:8080/"
        },
        "id": "t_SXSNDGdjFg",
        "outputId": "370cd778-fcb4-4cb7-b124-8ff56ade77cb"
      },
      "execution_count": 11,
      "outputs": [
        {
          "output_type": "stream",
          "name": "stdout",
          "text": [
            "vocab_size 50257\n",
            "[31373, 995]\n",
            "hello world\n"
          ]
        }
      ]
    },
    {
      "cell_type": "code",
      "source": [
        "\n",
        "# tokenize entire input data set\n",
        "import torch\n",
        "data = torch.tensor(encode(text), dtype=torch.long)\n",
        "print(data.shape, data.dtype)\n",
        "print(data[:100])\n"
      ],
      "metadata": {
        "colab": {
          "base_uri": "https://localhost:8080/"
        },
        "id": "bTndGXzIe-oq",
        "outputId": "bab3c8fb-ab6d-4778-cef8-b9a9185ee3b6"
      },
      "execution_count": 12,
      "outputs": [
        {
          "output_type": "stream",
          "name": "stdout",
          "text": [
            "torch.Size([1115394]) torch.int64\n",
            "tensor([18, 47, 56, 57, 58,  1, 15, 47, 58, 47, 64, 43, 52, 10,  0, 14, 43, 44,\n",
            "        53, 56, 43,  1, 61, 43,  1, 54, 56, 53, 41, 43, 43, 42,  1, 39, 52, 63,\n",
            "         1, 44, 59, 56, 58, 46, 43, 56,  6,  1, 46, 43, 39, 56,  1, 51, 43,  1,\n",
            "        57, 54, 43, 39, 49,  8,  0,  0, 13, 50, 50, 10,  0, 31, 54, 43, 39, 49,\n",
            "         6,  1, 57, 54, 43, 39, 49,  8,  0,  0, 18, 47, 56, 57, 58,  1, 15, 47,\n",
            "        58, 47, 64, 43, 52, 10,  0, 37, 53, 59])\n"
          ]
        }
      ]
    },
    {
      "cell_type": "code",
      "source": [
        "# create a fixed size sequences to input data - this would be context length we can feed\n",
        "sequence_length = 6\n",
        "batched_data = data.view(-1, sequence_length)\n",
        "print(batched_data.shape)\n",
        "print(batched_data[:10])\n"
      ],
      "metadata": {
        "colab": {
          "base_uri": "https://localhost:8080/"
        },
        "id": "gswJZ27lf5e8",
        "outputId": "cd3c406e-7be0-41ce-e4da-9e2ba1ab204b"
      },
      "execution_count": 125,
      "outputs": [
        {
          "output_type": "stream",
          "name": "stdout",
          "text": [
            "torch.Size([185899, 6])\n",
            "tensor([[18, 47, 56, 57, 58,  1],\n",
            "        [15, 47, 58, 47, 64, 43],\n",
            "        [52, 10,  0, 14, 43, 44],\n",
            "        [53, 56, 43,  1, 61, 43],\n",
            "        [ 1, 54, 56, 53, 41, 43],\n",
            "        [43, 42,  1, 39, 52, 63],\n",
            "        [ 1, 44, 59, 56, 58, 46],\n",
            "        [43, 56,  6,  1, 46, 43],\n",
            "        [39, 56,  1, 51, 43,  1],\n",
            "        [57, 54, 43, 39, 49,  8]])\n"
          ]
        }
      ]
    },
    {
      "cell_type": "code",
      "source": [
        "# Lets create a training data examples from above data set\n",
        "# each row in above set correspond to multiple traning examples to predict next chracter given previous characters\n",
        "# we dont need future characters as input so we mask them\n",
        "\n",
        "a = torch.ones(4, 5)\n",
        "w = torch.tril(a)\n",
        "print(w)\n",
        "print(a)\n",
        "c = torch.arange(start=1, end=6, step=1)\n",
        "print(c)\n",
        "print(c.shape)\n",
        "d = c.expand(4, -1)\n",
        "e = d * w\n",
        "print(e)\n",
        "\n",
        "\n",
        "\n"
      ],
      "metadata": {
        "colab": {
          "base_uri": "https://localhost:8080/"
        },
        "id": "--c3iQZboIpB",
        "outputId": "943732be-8b31-4cb7-bae5-9bf521bdce8d"
      },
      "execution_count": 126,
      "outputs": [
        {
          "output_type": "stream",
          "name": "stdout",
          "text": [
            "tensor([[1., 0., 0., 0., 0.],\n",
            "        [1., 1., 0., 0., 0.],\n",
            "        [1., 1., 1., 0., 0.],\n",
            "        [1., 1., 1., 1., 0.]])\n",
            "tensor([[1., 1., 1., 1., 1.],\n",
            "        [1., 1., 1., 1., 1.],\n",
            "        [1., 1., 1., 1., 1.],\n",
            "        [1., 1., 1., 1., 1.]])\n",
            "tensor([1, 2, 3, 4, 5])\n",
            "torch.Size([5])\n",
            "tensor([[1., 0., 0., 0., 0.],\n",
            "        [1., 2., 0., 0., 0.],\n",
            "        [1., 2., 3., 0., 0.],\n",
            "        [1., 2., 3., 4., 0.]])\n"
          ]
        }
      ]
    },
    {
      "cell_type": "code",
      "source": [
        "# Create a lower triangular matrix of ones with dimensions (sequence_length, sequence_length)\n",
        "mask = torch.tril(torch.ones(sequence_length, sequence_length))\n",
        "\n",
        "# Expand the single row data to have multiple rows for each data sample and apply the mask\n",
        "expanded_data = []\n",
        "target_data = []\n",
        "for single_row in batched_data:\n",
        "    # Broadcast the single row\n",
        "    broadcasted_row = single_row.expand(sequence_length, -1)\n",
        "    # Apply the mask\n",
        "    expanded_row = broadcasted_row * mask\n",
        "    expanded_data.append(expanded_row)\n",
        "    targets = single_row[1:]\n",
        "    # Add an extra dummy target for the last sequence\n",
        "    targets = torch.cat([targets, torch.tensor([0.0])])\n",
        "    target_data.append(targets)\n",
        "\n",
        "# Convert the list of expanded data to a tensor\n",
        "expanded_data = torch.stack(expanded_data)\n",
        "target_data = torch.stack(target_data)\n",
        "print(\"Expanded data shape:\", expanded_data.shape)\n",
        "print(f\"target data {target_data[:10]}\")\n"
      ],
      "metadata": {
        "colab": {
          "base_uri": "https://localhost:8080/"
        },
        "id": "GS9AvJOezRFm",
        "outputId": "f5c76852-71d6-4c88-b553-fd1c6c5c300f"
      },
      "execution_count": 127,
      "outputs": [
        {
          "output_type": "stream",
          "name": "stdout",
          "text": [
            "Expanded data shape: torch.Size([185899, 6, 6])\n",
            "target data tensor([[47., 56., 57., 58.,  1.,  0.],\n",
            "        [47., 58., 47., 64., 43.,  0.],\n",
            "        [10.,  0., 14., 43., 44.,  0.],\n",
            "        [56., 43.,  1., 61., 43.,  0.],\n",
            "        [54., 56., 53., 41., 43.,  0.],\n",
            "        [42.,  1., 39., 52., 63.,  0.],\n",
            "        [44., 59., 56., 58., 46.,  0.],\n",
            "        [56.,  6.,  1., 46., 43.,  0.],\n",
            "        [56.,  1., 51., 43.,  1.,  0.],\n",
            "        [54., 43., 39., 49.,  8.,  0.]])\n"
          ]
        }
      ]
    },
    {
      "cell_type": "code",
      "source": [
        "print(expanded_data[:3])\n",
        "print(target_data[:3])"
      ],
      "metadata": {
        "colab": {
          "base_uri": "https://localhost:8080/"
        },
        "id": "fd4Fyt2iwajo",
        "outputId": "1afbca53-9ac5-471c-9083-cee6cc503955"
      },
      "execution_count": 128,
      "outputs": [
        {
          "output_type": "stream",
          "name": "stdout",
          "text": [
            "tensor([[[18.,  0.,  0.,  0.,  0.,  0.],\n",
            "         [18., 47.,  0.,  0.,  0.,  0.],\n",
            "         [18., 47., 56.,  0.,  0.,  0.],\n",
            "         [18., 47., 56., 57.,  0.,  0.],\n",
            "         [18., 47., 56., 57., 58.,  0.],\n",
            "         [18., 47., 56., 57., 58.,  1.]],\n",
            "\n",
            "        [[15.,  0.,  0.,  0.,  0.,  0.],\n",
            "         [15., 47.,  0.,  0.,  0.,  0.],\n",
            "         [15., 47., 58.,  0.,  0.,  0.],\n",
            "         [15., 47., 58., 47.,  0.,  0.],\n",
            "         [15., 47., 58., 47., 64.,  0.],\n",
            "         [15., 47., 58., 47., 64., 43.]],\n",
            "\n",
            "        [[52.,  0.,  0.,  0.,  0.,  0.],\n",
            "         [52., 10.,  0.,  0.,  0.,  0.],\n",
            "         [52., 10.,  0.,  0.,  0.,  0.],\n",
            "         [52., 10.,  0., 14.,  0.,  0.],\n",
            "         [52., 10.,  0., 14., 43.,  0.],\n",
            "         [52., 10.,  0., 14., 43., 44.]]])\n",
            "tensor([[47., 56., 57., 58.,  1.,  0.],\n",
            "        [47., 58., 47., 64., 43.,  0.],\n",
            "        [10.,  0., 14., 43., 44.,  0.]])\n"
          ]
        }
      ]
    },
    {
      "cell_type": "code",
      "source": [
        "# merge these samples into batch dimension\n",
        "train_data = expanded_data.view(-1, 6)\n",
        "target_data = target_data.view(-1, 1)\n",
        "print(train_data[:10])\n",
        "print(target_data[:10])"
      ],
      "metadata": {
        "colab": {
          "base_uri": "https://localhost:8080/"
        },
        "id": "PY2Bj0n20ypq",
        "outputId": "00949522-91fb-4641-f4b5-727539f42649"
      },
      "execution_count": 97,
      "outputs": [
        {
          "output_type": "stream",
          "name": "stdout",
          "text": [
            "tensor([[18.,  0.,  0.,  0.,  0.,  0.],\n",
            "        [18., 47.,  0.,  0.,  0.,  0.],\n",
            "        [18., 47., 56.,  0.,  0.,  0.],\n",
            "        [18., 47., 56., 57.,  0.,  0.],\n",
            "        [18., 47., 56., 57., 58.,  0.],\n",
            "        [18., 47., 56., 57., 58.,  1.],\n",
            "        [15.,  0.,  0.,  0.,  0.,  0.],\n",
            "        [15., 47.,  0.,  0.,  0.,  0.],\n",
            "        [15., 47., 58.,  0.,  0.,  0.],\n",
            "        [15., 47., 58., 47.,  0.,  0.]])\n",
            "tensor([[47.],\n",
            "        [56.],\n",
            "        [57.],\n",
            "        [58.],\n",
            "        [ 1.],\n",
            "        [ 0.],\n",
            "        [47.],\n",
            "        [58.],\n",
            "        [47.],\n",
            "        [64.]])\n"
          ]
        }
      ]
    },
    {
      "cell_type": "code",
      "source": [
        "print(train_data.shape, target_data.shape)"
      ],
      "metadata": {
        "colab": {
          "base_uri": "https://localhost:8080/"
        },
        "id": "TdN4c7k42VRS",
        "outputId": "06924f42-5dd0-4fea-f8b4-e3be7245fea4"
      },
      "execution_count": 98,
      "outputs": [
        {
          "output_type": "stream",
          "name": "stdout",
          "text": [
            "torch.Size([1115394, 6]) torch.Size([1115394, 1])\n"
          ]
        }
      ]
    },
    {
      "cell_type": "code",
      "source": [
        "# introduce mini batch size\n",
        "batch_size = 3\n",
        "train_batch = train_data.view(batch_size, -1, 6)\n",
        "target_batch = target_data.view(batch_size, -1, 1)\n",
        "print(train_batch.shape, target_batch.shape)\n",
        "print(train_batch[0,:10], target_batch[0,:10])"
      ],
      "metadata": {
        "colab": {
          "base_uri": "https://localhost:8080/"
        },
        "id": "LtZAqqUO6ApQ",
        "outputId": "e7b73619-6358-48c1-8eae-32bd21dd11d7"
      },
      "execution_count": 113,
      "outputs": [
        {
          "output_type": "stream",
          "name": "stdout",
          "text": [
            "torch.Size([3, 371798, 6]) torch.Size([3, 371798, 1])\n",
            "tensor([[18.,  0.,  0.,  0.,  0.,  0.],\n",
            "        [18., 47.,  0.,  0.,  0.,  0.],\n",
            "        [18., 47., 56.,  0.,  0.,  0.],\n",
            "        [18., 47., 56., 57.,  0.,  0.],\n",
            "        [18., 47., 56., 57., 58.,  0.],\n",
            "        [18., 47., 56., 57., 58.,  1.],\n",
            "        [15.,  0.,  0.,  0.,  0.,  0.],\n",
            "        [15., 47.,  0.,  0.,  0.,  0.],\n",
            "        [15., 47., 58.,  0.,  0.,  0.],\n",
            "        [15., 47., 58., 47.,  0.,  0.]]) tensor([[47.],\n",
            "        [56.],\n",
            "        [57.],\n",
            "        [58.],\n",
            "        [ 1.],\n",
            "        [ 0.],\n",
            "        [47.],\n",
            "        [58.],\n",
            "        [47.],\n",
            "        [64.]])\n"
          ]
        }
      ]
    },
    {
      "cell_type": "code",
      "source": [
        "# instead of fixed size splits as sequence\n",
        "# lets use random sampling offsets to generate traiin samples\n",
        "n = int(0.9 * len(data))\n",
        "print(n)\n",
        "train_d = data[:n]\n",
        "test_d = data[n:]\n",
        "print(train_d.shape, test_d.shape)"
      ],
      "metadata": {
        "colab": {
          "base_uri": "https://localhost:8080/"
        },
        "id": "PQyEhk7olnov",
        "outputId": "d1381dba-d3be-4394-b6a2-687d1684fa0b"
      },
      "execution_count": 13,
      "outputs": [
        {
          "output_type": "stream",
          "name": "stdout",
          "text": [
            "1003854\n",
            "torch.Size([1003854]) torch.Size([111540])\n"
          ]
        }
      ]
    },
    {
      "cell_type": "code",
      "source": [
        "block_size = 8\n",
        "batch_size = 4\n",
        "\n",
        "def get_sampled_data(data_type = 'train'):\n",
        "  data_set = train_d if data_type == 'train' else  test_d\n",
        "  ix = torch.randint(low=0, high=len(data_set) - block_size, size=(batch_size, ))\n",
        "  x = torch.stack([data[i:i+block_size] for i in ix])\n",
        "  y = torch.stack([data[i+1:i+block_size+1] for i in ix])\n",
        "  return x, y\n",
        "\n",
        "x, y = get_sampled_data()\n",
        "print(x.shape, y.shape)\n",
        "print(x)\n",
        "print(y)\n"
      ],
      "metadata": {
        "colab": {
          "base_uri": "https://localhost:8080/"
        },
        "id": "hrIH6FY5mqIo",
        "outputId": "ebb33397-8e22-4130-d77e-c4a41ddbb671"
      },
      "execution_count": 14,
      "outputs": [
        {
          "output_type": "stream",
          "name": "stdout",
          "text": [
            "torch.Size([4, 8]) torch.Size([4, 8])\n",
            "tensor([[46, 43,  1, 46, 39, 58, 41, 46],\n",
            "        [47, 57, 46,  1, 58, 46, 43, 51],\n",
            "        [46,  1, 53, 56,  1, 50, 47, 44],\n",
            "        [39, 57,  1, 51, 47, 57, 58, 39]])\n",
            "tensor([[43,  1, 46, 39, 58, 41, 46, 43],\n",
            "        [57, 46,  1, 58, 46, 43, 51,  1],\n",
            "        [ 1, 53, 56,  1, 50, 47, 44, 43],\n",
            "        [57,  1, 51, 47, 57, 58, 39, 49]])\n"
          ]
        }
      ]
    },
    {
      "cell_type": "code",
      "source": [
        "import torch.nn as nn\n",
        "from torch.nn import functional as F\n",
        "\n",
        "class BigramModel(nn.Module):\n",
        "  def __init__(self, vocab_size):\n",
        "    super().__init__()\n",
        "    self.token_embeddings_table = nn.Embedding(num_embeddings=vocab_size, embedding_dim=vocab_size)\n",
        "\n",
        "  def forward(self, idx, targets=None):\n",
        "    logits = self.token_embeddings_table(idx) # B, T, C\n",
        "    if targets is None:\n",
        "      return logits, None\n",
        "    B, T, C = logits.shape\n",
        "    logits = logits.view(B*T, C)\n",
        "    targets = targets.view(B*T)\n",
        "    loss = F.cross_entropy(logits, targets)\n",
        "    return logits, loss\n",
        "\n",
        "  def generate(self, idx, max_tokens):\n",
        "    # B, T is indices of current context\n",
        "    for i in range(max_tokens):\n",
        "      logits, loss = self(idx)\n",
        "      # get latest timestep logits\n",
        "      logits = logits[:, -1, :] # B, latest Timestep, C\n",
        "      probs = F.softmax(logits, dim=-1)\n",
        "      id_next = torch.multinomial(probs, num_samples=1) # B, 1\n",
        "      idx = torch.cat((idx, id_next), dim=1) # B, T+1\n",
        "    return idx\n",
        "\n",
        "\n",
        "\n"
      ],
      "metadata": {
        "id": "c4WVDd6deXEO"
      },
      "execution_count": 67,
      "outputs": []
    },
    {
      "cell_type": "code",
      "source": [
        "print(vocab_size)\n",
        "m = BigramModel(vocab_size=vocab_size)\n",
        "logits, loss = m(x, y)\n",
        "print(logits.shape, loss)\n",
        "print(logits)\n"
      ],
      "metadata": {
        "colab": {
          "base_uri": "https://localhost:8080/"
        },
        "id": "HN43aCMDg8Uc",
        "outputId": "f2b4d0db-8cff-467d-9d19-10343d41a5d0"
      },
      "execution_count": 68,
      "outputs": [
        {
          "output_type": "stream",
          "name": "stdout",
          "text": [
            "65\n",
            "torch.Size([32, 65]) tensor(4.7176, grad_fn=<NllLossBackward0>)\n",
            "tensor([[ 0.7525,  0.8070, -0.9034,  ..., -0.0399, -0.0135,  0.5220],\n",
            "        [-1.6677, -0.9135, -0.1714,  ...,  0.3814, -0.9266, -0.3998],\n",
            "        [-1.0928, -0.1715, -0.5418,  ..., -0.5209,  1.7078, -1.3630],\n",
            "        ...,\n",
            "        [ 0.6166, -0.0157,  0.5483,  ...,  0.9931, -0.2095,  1.2704],\n",
            "        [ 0.5434,  1.1057,  2.1404,  ...,  1.6791, -1.7088,  0.3230],\n",
            "        [ 0.2487, -0.1023, -0.7687,  ..., -1.0229,  1.0408,  0.7397]],\n",
            "       grad_fn=<ViewBackward0>)\n"
          ]
        }
      ]
    },
    {
      "cell_type": "code",
      "source": [
        "# training loop\n",
        "optimizer = torch.optim.AdamW(m.parameters(), lr=1e-3)"
      ],
      "metadata": {
        "id": "M7aI2TbJKPlo"
      },
      "execution_count": 69,
      "outputs": []
    },
    {
      "cell_type": "code",
      "source": [
        "batch_size = 32\n",
        "for steps in range(1000):\n",
        "  xb, yb = get_sampled_data()\n",
        "  logits, loss = m(xb, yb)\n",
        "  optimizer.zero_grad(set_to_none=True)\n",
        "  loss.backward()\n",
        "  optimizer.step()\n",
        "\n",
        "print(loss.item())"
      ],
      "metadata": {
        "colab": {
          "base_uri": "https://localhost:8080/"
        },
        "id": "JHqHQCkeKmDH",
        "outputId": "c5921cd4-101f-4f79-aff5-1a3ffaa13322"
      },
      "execution_count": 90,
      "outputs": [
        {
          "output_type": "stream",
          "name": "stdout",
          "text": [
            "2.45859694480896\n"
          ]
        }
      ]
    },
    {
      "cell_type": "code",
      "source": [
        "decode(m.generate(idx=torch.zeros((1, 1), dtype=torch.long), max_tokens=500)[0].tolist())"
      ],
      "metadata": {
        "colab": {
          "base_uri": "https://localhost:8080/",
          "height": 71
        },
        "id": "BO3fgCYQwmRu",
        "outputId": "95a66993-15f2-4867-eb0d-3a28188220f1"
      },
      "execution_count": 92,
      "outputs": [
        {
          "output_type": "execute_result",
          "data": {
            "text/plain": [
              "'\\nwiaracan ng in,\\nwounin nst st wn f t, ou:\\n\\nPevat, neinuse s, cas h\\nI yorthode te,\\nGLIfin by.\\n\\n\\nF t r mer se pll: be t he mare othisHAbrthiteled s a mee angen qpure mor, counove p, to w; thather\\nSOMAGlain,\\n\\nTOf The Prs toflout me har;\\nTZXENTu m,\\nBunth an fe.\\nTor tiventh, towee.\\nSe ig:\\n\\nF teryord hend sen rsbokeguive veiot d ie.\\nPundrea CISt; horire al.\\nENe, ch ou mm tukNG prakst dorernofo ame hipy b t l ICHace SANCos m iotok QG h hel s r\\nBinarng, t Maimy chafor he hath wher f hino, mavir thorg sa'"
            ],
            "application/vnd.google.colaboratory.intrinsic+json": {
              "type": "string"
            }
          },
          "metadata": {},
          "execution_count": 92
        }
      ]
    }
  ]
}